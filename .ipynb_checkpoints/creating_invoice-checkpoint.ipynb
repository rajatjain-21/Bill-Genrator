{
 "cells": [
  {
   "cell_type": "code",
   "execution_count": 18,
   "metadata": {
    "collapsed": true
   },
   "outputs": [],
   "source": [
    "import pandas as pd\n",
    "xls=pd.ExcelFile('Paavan Dairy-automated-invoice.xlsx')\n",
    "client_details=pd.read_excel(xls,'Clients')\n",
    "product_details=pd.read_excel(xls,'Products')\n",
    "Bill=pd.read_excel(xls,'Sheet1')"
   ]
  },
  {
   "cell_type": "code",
   "execution_count": 19,
   "metadata": {
    "collapsed": true
   },
   "outputs": [],
   "source": [
    "final_bill={}\n",
    "flag=0\n",
    "for index,row in Bill.iterrows():\n",
    "    client_id=row['Client Number']\n",
    "    if client_id=='nan':\n",
    "        break\n",
    "    product_id=row['Product']\n",
    "    quantity=row['Quantity']\n",
    "    name=(str(client_details.loc[client_details['Client nr']==row['Client Number'],'Name'])[1:]).strip()\n",
    "    name=(name.split('\\n'))[0]\n",
    "    street=(str(client_details.loc[client_details['Client nr']==row['Client Number'],'Street'])[1:]).strip()\n",
    "    street=(street.split('\\n'))[0]\n",
    "    city=(str(client_details.loc[client_details['Client nr']==row['Client Number'],'City'])[1:]).strip()\n",
    "    city=(city.split('\\n'))[0]\n",
    "    Phone_Number=(str(client_details.loc[client_details['Client nr']==row['Client Number'],'Phone Num'])[1:]).strip()\n",
    "    Phone_Number=(Phone_Number.split('\\n'))[0]\n",
    "    Product=(str(product_details.loc[product_details['Product nr']==row['Product'],'Description'])[1:]).strip()\n",
    "    Product=(Product.split('\\n'))[0]\n",
    "    Price=(str(product_details.loc[product_details['Product nr']==row['Product'],'Price'])[1:]).strip()\n",
    "    Price=(Price.split('\\n'))[0]\n",
    "    if row['Client Number'] not in final_bill.keys():\n",
    "        prod={}\n",
    "        prod[0]=({'product_id':product_id,'Product':Product,'Price':Price,'Quantity':quantity})\n",
    "        final_bill[row['Client Number']]={'Client_Name':name,'Street':street,'City':city,'Phone_Number':Phone_Number,'prod':prod}\n",
    "    else:\n",
    "        prod={}\n",
    "        prod=final_bill[row['Client Number']]['prod']\n",
    "        product_number=prod.keys()\n",
    "        count=len(product_number)\n",
    "        for j in range(count):\n",
    "            if prod[j]['product_id']==product_id:\n",
    "                final_bill[row['Client Number']]['prod'][j]['Quantity']+=quantity\n",
    "                flag=1\n",
    "                break\n",
    "        #print(name+str(\"\")+str(flag))\n",
    "        if flag==1:\n",
    "            flag=0\n",
    "        else:\n",
    "            prod[count]=({'product_id':product_id,'Product':Product,'Price':Price,'Quantity':quantity})\n",
    "            final_bill[row['Client Number']]={'Client_Name':name,'Street':street,'City':city,'Phone_Number':Phone_Number,'prod':prod}\n",
    "        "
   ]
  },
  {
   "cell_type": "code",
   "execution_count": 20,
   "metadata": {
    "collapsed": true
   },
   "outputs": [],
   "source": [
    "df=(pd.DataFrame(final_bill))"
   ]
  },
  {
   "cell_type": "code",
   "execution_count": 21,
   "metadata": {
    "collapsed": true
   },
   "outputs": [],
   "source": [
    "df=df.transpose()"
   ]
  },
  {
   "cell_type": "code",
   "execution_count": 22,
   "metadata": {
    "collapsed": true
   },
   "outputs": [],
   "source": [
    "for index,j in df.iterrows():\n",
    "    j['prod']=(pd.DataFrame(j['prod']))"
   ]
  },
  {
   "cell_type": "code",
   "execution_count": 23,
   "metadata": {
    "collapsed": true
   },
   "outputs": [],
   "source": [
    "df=df.transpose()"
   ]
  },
  {
   "cell_type": "code",
   "execution_count": 24,
   "metadata": {
    "scrolled": true
   },
   "outputs": [
    {
     "data": {
      "text/html": [
       "<div>\n",
       "<style>\n",
       "    .dataframe thead tr:only-child th {\n",
       "        text-align: right;\n",
       "    }\n",
       "\n",
       "    .dataframe thead th {\n",
       "        text-align: left;\n",
       "    }\n",
       "\n",
       "    .dataframe tbody tr th {\n",
       "        vertical-align: top;\n",
       "    }\n",
       "</style>\n",
       "<table border=\"1\" class=\"dataframe\">\n",
       "  <thead>\n",
       "    <tr style=\"text-align: right;\">\n",
       "      <th></th>\n",
       "      <th>0</th>\n",
       "      <th>1</th>\n",
       "      <th>2</th>\n",
       "    </tr>\n",
       "  </thead>\n",
       "  <tbody>\n",
       "    <tr>\n",
       "      <th>Price</th>\n",
       "      <td>50</td>\n",
       "      <td>38</td>\n",
       "      <td>20</td>\n",
       "    </tr>\n",
       "    <tr>\n",
       "      <th>Product</th>\n",
       "      <td>Bottle</td>\n",
       "      <td>Milk</td>\n",
       "      <td>Dahi</td>\n",
       "    </tr>\n",
       "    <tr>\n",
       "      <th>Quantity</th>\n",
       "      <td>0</td>\n",
       "      <td>0</td>\n",
       "      <td>1</td>\n",
       "    </tr>\n",
       "    <tr>\n",
       "      <th>product_id</th>\n",
       "      <td>1002</td>\n",
       "      <td>1001</td>\n",
       "      <td>1003</td>\n",
       "    </tr>\n",
       "  </tbody>\n",
       "</table>\n",
       "</div>"
      ],
      "text/plain": [
       "                 0     1     2\n",
       "Price           50    38    20\n",
       "Product     Bottle  Milk  Dahi\n",
       "Quantity         0     0     1\n",
       "product_id    1002  1001  1003"
      ]
     },
     "execution_count": 24,
     "metadata": {},
     "output_type": "execute_result"
    }
   ],
   "source": [
    "df[501]['prod']"
   ]
  },
  {
   "cell_type": "code",
   "execution_count": 25,
   "metadata": {},
   "outputs": [
    {
     "name": "stdout",
     "output_type": "stream",
     "text": [
      "50\n",
      "38\n",
      "20\n"
     ]
    }
   ],
   "source": [
    "for index,i in (df[501]['prod'].transpose()).iterrows():\n",
    "    print(i['Price'])"
   ]
  },
  {
   "cell_type": "code",
   "execution_count": 26,
   "metadata": {
    "collapsed": true
   },
   "outputs": [],
   "source": [
    "import pdfkit"
   ]
  },
  {
   "cell_type": "code",
   "execution_count": 27,
   "metadata": {
    "collapsed": true
   },
   "outputs": [],
   "source": [
    "import json\n",
    "import random\n",
    "import datetime\n",
    "import pandas as pd\n",
    "from pprint import pprint\n",
    "file=open(r'rajat_bill.html','r')\n",
    "file1=open(r'bill_gen2.html','w')\n",
    "content=file.read()"
   ]
  },
  {
   "cell_type": "code",
   "execution_count": 28,
   "metadata": {
    "collapsed": true
   },
   "outputs": [],
   "source": [
    "content=content.replace('\\t',\"\")\n",
    "content = content.replace(\"\\n\",\"\")"
   ]
  },
  {
   "cell_type": "code",
   "execution_count": 29,
   "metadata": {},
   "outputs": [
    {
     "ename": "OSError",
     "evalue": "No wkhtmltopdf executable found: \"b''\"\nIf this file exists please check that this process can read it. Otherwise please install wkhtmltopdf - https://github.com/JazzCore/python-pdfkit/wiki/Installing-wkhtmltopdf",
     "output_type": "error",
     "traceback": [
      "\u001b[1;31m---------------------------------------------------------------------------\u001b[0m",
      "\u001b[1;31mFileNotFoundError\u001b[0m                         Traceback (most recent call last)",
      "\u001b[1;32mC:\\Users\\Perfect Disk\\Anaconda3\\lib\\site-packages\\pdfkit\\configuration.py\u001b[0m in \u001b[0;36m__init__\u001b[1;34m(self, wkhtmltopdf, meta_tag_prefix)\u001b[0m\n\u001b[0;32m     20\u001b[0m         \u001b[1;32mtry\u001b[0m\u001b[1;33m:\u001b[0m\u001b[1;33m\u001b[0m\u001b[0m\n\u001b[1;32m---> 21\u001b[1;33m             \u001b[1;32mwith\u001b[0m \u001b[0mopen\u001b[0m\u001b[1;33m(\u001b[0m\u001b[0mself\u001b[0m\u001b[1;33m.\u001b[0m\u001b[0mwkhtmltopdf\u001b[0m\u001b[1;33m)\u001b[0m \u001b[1;32mas\u001b[0m \u001b[0mf\u001b[0m\u001b[1;33m:\u001b[0m\u001b[1;33m\u001b[0m\u001b[0m\n\u001b[0m\u001b[0;32m     22\u001b[0m                 \u001b[1;32mpass\u001b[0m\u001b[1;33m\u001b[0m\u001b[0m\n",
      "\u001b[1;31mFileNotFoundError\u001b[0m: [Errno 2] No such file or directory: b''",
      "\nDuring handling of the above exception, another exception occurred:\n",
      "\u001b[1;31mOSError\u001b[0m                                   Traceback (most recent call last)",
      "\u001b[1;32m<ipython-input-29-c503d6c55351>\u001b[0m in \u001b[0;36m<module>\u001b[1;34m()\u001b[0m\n\u001b[0;32m     40\u001b[0m \u001b[0mfile1\u001b[0m\u001b[1;33m.\u001b[0m\u001b[0mwrite\u001b[0m\u001b[1;33m(\u001b[0m\u001b[0mprototype\u001b[0m\u001b[1;33m)\u001b[0m\u001b[1;33m\u001b[0m\u001b[0m\n\u001b[0;32m     41\u001b[0m \u001b[0mfile1\u001b[0m\u001b[1;33m.\u001b[0m\u001b[0mclose\u001b[0m\u001b[1;33m(\u001b[0m\u001b[1;33m)\u001b[0m\u001b[1;33m\u001b[0m\u001b[0m\n\u001b[1;32m---> 42\u001b[1;33m \u001b[0mpdfkit\u001b[0m\u001b[1;33m.\u001b[0m\u001b[0mfrom_file\u001b[0m\u001b[1;33m(\u001b[0m\u001b[1;34mb'bill_gen2.html'\u001b[0m\u001b[1;33m,\u001b[0m \u001b[1;34m'rajatjain.pdf'\u001b[0m\u001b[1;33m)\u001b[0m\u001b[1;33m\u001b[0m\u001b[0m\n\u001b[0m",
      "\u001b[1;32mC:\\Users\\Perfect Disk\\Anaconda3\\lib\\site-packages\\pdfkit\\api.py\u001b[0m in \u001b[0;36mfrom_file\u001b[1;34m(input, output_path, options, toc, cover, css, configuration, cover_first)\u001b[0m\n\u001b[0;32m     45\u001b[0m \u001b[1;33m\u001b[0m\u001b[0m\n\u001b[0;32m     46\u001b[0m     r = PDFKit(input, 'file', options=options, toc=toc, cover=cover, css=css,\n\u001b[1;32m---> 47\u001b[1;33m                configuration=configuration, cover_first=cover_first)\n\u001b[0m\u001b[0;32m     48\u001b[0m \u001b[1;33m\u001b[0m\u001b[0m\n\u001b[0;32m     49\u001b[0m     \u001b[1;32mreturn\u001b[0m \u001b[0mr\u001b[0m\u001b[1;33m.\u001b[0m\u001b[0mto_pdf\u001b[0m\u001b[1;33m(\u001b[0m\u001b[0moutput_path\u001b[0m\u001b[1;33m)\u001b[0m\u001b[1;33m\u001b[0m\u001b[0m\n",
      "\u001b[1;32mC:\\Users\\Perfect Disk\\Anaconda3\\lib\\site-packages\\pdfkit\\pdfkit.py\u001b[0m in \u001b[0;36m__init__\u001b[1;34m(self, url_or_file, type_, options, toc, cover, css, configuration, cover_first)\u001b[0m\n\u001b[0;32m     40\u001b[0m \u001b[1;33m\u001b[0m\u001b[0m\n\u001b[0;32m     41\u001b[0m         \u001b[0mself\u001b[0m\u001b[1;33m.\u001b[0m\u001b[0msource\u001b[0m \u001b[1;33m=\u001b[0m \u001b[0mSource\u001b[0m\u001b[1;33m(\u001b[0m\u001b[0murl_or_file\u001b[0m\u001b[1;33m,\u001b[0m \u001b[0mtype_\u001b[0m\u001b[1;33m)\u001b[0m\u001b[1;33m\u001b[0m\u001b[0m\n\u001b[1;32m---> 42\u001b[1;33m         self.configuration = (Configuration() if configuration is None\n\u001b[0m\u001b[0;32m     43\u001b[0m                               else configuration)\n\u001b[0;32m     44\u001b[0m         \u001b[1;32mtry\u001b[0m\u001b[1;33m:\u001b[0m\u001b[1;33m\u001b[0m\u001b[0m\n",
      "\u001b[1;32mC:\\Users\\Perfect Disk\\Anaconda3\\lib\\site-packages\\pdfkit\\configuration.py\u001b[0m in \u001b[0;36m__init__\u001b[1;34m(self, wkhtmltopdf, meta_tag_prefix)\u001b[0m\n\u001b[0;32m     25\u001b[0m                           \u001b[1;34m'If this file exists please check that this process can '\u001b[0m\u001b[1;33m\u001b[0m\u001b[0m\n\u001b[0;32m     26\u001b[0m                           \u001b[1;34m'read it. Otherwise please install wkhtmltopdf - '\u001b[0m\u001b[1;33m\u001b[0m\u001b[0m\n\u001b[1;32m---> 27\u001b[1;33m                           'https://github.com/JazzCore/python-pdfkit/wiki/Installing-wkhtmltopdf' % self.wkhtmltopdf)\n\u001b[0m",
      "\u001b[1;31mOSError\u001b[0m: No wkhtmltopdf executable found: \"b''\"\nIf this file exists please check that this process can read it. Otherwise please install wkhtmltopdf - https://github.com/JazzCore/python-pdfkit/wiki/Installing-wkhtmltopdf"
     ]
    }
   ],
   "source": [
    "prototype=\"\"\n",
    "to =\"to :\"\n",
    "findto=content.find(to)\n",
    "prototype+=content[0:findto+len(to)]+\" \"+\"Rajat Jain\"\n",
    "\n",
    "date = \"Date :\"\n",
    "finddate=content.find(date)\n",
    "now = datetime.datetime.now()\n",
    "prototype+=content[findto+len(to):finddate+len(date)]+\" \"+str(now.date())\n",
    "\n",
    "month =\"Month :\"\n",
    "findmonth=content.find(month)\n",
    "prototype+=content[finddate+len(date):findmonth+len(month)]+\" \"+str(now.strftime(\"%B\"))\n",
    "\n",
    "invoicenr = \"Invoice nr :\"\n",
    "findinvoicenr = content.find(invoicenr)\n",
    "prototype+=content[findmonth+len(month):findinvoicenr+len(invoicenr)]+\" \"+str(random.randint(1,100))\n",
    "\n",
    "clientnr =\"Client nr :\"\n",
    "findclientnr=content.find(clientnr)\n",
    "prototype+=content[findinvoicenr+len(invoicenr):findclientnr+len(clientnr)]+\" \"+\"501\"\n",
    "\n",
    "tbody=\"tbody\"\n",
    "findtbody=content.find(tbody)\n",
    "prototype+=content[findclientnr+len(clientnr):findtbody+len(tbody)]\n",
    "\n",
    "total_amount = 0\n",
    "for index,i in (df[501]['prod'].transpose()).iterrows():\n",
    "    myprice=str(i['Price'])\n",
    "    myproduct=str(i['Product'])\n",
    "    mypid=str(i['product_id'])\n",
    "    myquantity=str(i['Quantity'])\n",
    "    total = int(myquantity)*float(myprice)\n",
    "    total_amount = total_amount+int(total)\n",
    "    prototype+=\"<tr><td>\"+mypid+\"</td>\"+\"<td>\"+myproduct+\"</td>\"+\"<td>\"+myprice+\"</td>\"+\"<td>\"+myquantity+\"</td>\"+\"<td>\"+str(total)+\"</td></tr>\"\n",
    "\n",
    "prototype+=\"</tbody></table></div>\"\n",
    "prototype+='<br><br><h3 class=\"float-right\">Total Amount Due : &#x20B9; '+str(total_amount)+\"</div></body></html>\"\n",
    "\n",
    "file1.write(prototype)\n",
    "file1.close()\n",
    "pdfkit.from_file(b'bill_gen2.html', 'rajatjain.pdf')"
   ]
  },
  {
   "cell_type": "code",
   "execution_count": null,
   "metadata": {
    "collapsed": true
   },
   "outputs": [],
   "source": []
  }
 ],
 "metadata": {
  "kernelspec": {
   "display_name": "Python 3",
   "language": "python",
   "name": "python3"
  },
  "language_info": {
   "codemirror_mode": {
    "name": "ipython",
    "version": 3
   },
   "file_extension": ".py",
   "mimetype": "text/x-python",
   "name": "python",
   "nbconvert_exporter": "python",
   "pygments_lexer": "ipython3",
   "version": "3.6.1"
  }
 },
 "nbformat": 4,
 "nbformat_minor": 2
}
