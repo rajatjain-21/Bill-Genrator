{
 "cells": [
  {
   "cell_type": "code",
   "execution_count": 209,
   "metadata": {
    "collapsed": true
   },
   "outputs": [],
   "source": [
    "import pandas as pd\n",
    "xls=pd.ExcelFile('Paavan Dairy-automated-invoice.xlsx')\n",
    "client_details=pd.read_excel(xls,'Clients')\n",
    "product_details=pd.read_excel(xls,'Products')\n",
    "Bill=pd.read_excel(xls,'Sheet1')"
   ]
  },
  {
   "cell_type": "code",
   "execution_count": 210,
   "metadata": {},
   "outputs": [],
   "source": [
    "final_bill={}\n",
    "flag=0\n",
    "for index,row in Bill.iterrows():\n",
    "    client_id=row['Client Number']\n",
    "    if client_id=='nan':\n",
    "        break\n",
    "    product_id=row['Product']\n",
    "    quantity=row['Quantity']\n",
    "    name=(str(client_details.loc[client_details['Client nr']==row['Client Number'],'Name'])[1:]).strip()\n",
    "    name=(name.split('\\n'))[0]\n",
    "    street=(str(client_details.loc[client_details['Client nr']==row['Client Number'],'Street'])[1:]).strip()\n",
    "    street=(street.split('\\n'))[0]\n",
    "    city=(str(client_details.loc[client_details['Client nr']==row['Client Number'],'City'])[1:]).strip()\n",
    "    city=(city.split('\\n'))[0]\n",
    "    Phone_Number=(str(client_details.loc[client_details['Client nr']==row['Client Number'],'Phone Num'])[1:]).strip()\n",
    "    Phone_Number=(Phone_Number.split('\\n'))[0]\n",
    "    Product=(str(product_details.loc[product_details['Product nr']==row['Product'],'Description'])[1:]).strip()\n",
    "    Product=(Product.split('\\n'))[0]\n",
    "    Price=(str(product_details.loc[product_details['Product nr']==row['Product'],'Price'])[1:]).strip()\n",
    "    Price=(Price.split('\\n'))[0]\n",
    "    if row['Client Number'] not in final_bill.keys():\n",
    "        prod={}\n",
    "        prod[0]=({'product_id':product_id,'Product':Product,'Price':Price,'Quantity':quantity})\n",
    "        final_bill[row['Client Number']]={'Client_Name':name,'Street':street,'City':city,'Phone_Number':Phone_Number,'prod':prod}\n",
    "    else:\n",
    "        prod={}\n",
    "        prod=final_bill[row['Client Number']]['prod']\n",
    "        product_number=prod.keys()\n",
    "        count=len(product_number)\n",
    "        for j in range(count):\n",
    "            if prod[j]['product_id']==product_id:\n",
    "                final_bill[row['Client Number']]['prod'][j]['Quantity']+=quantity\n",
    "                flag=1\n",
    "                break\n",
    "        #print(name+str(\"\")+str(flag))\n",
    "        if flag==1:\n",
    "            flag=0\n",
    "        else:\n",
    "            prod[count]=({'product_id':product_id,'Product':Product,'Price':Price,'Quantity':quantity})\n",
    "            final_bill[row['Client Number']]={'Client_Name':name,'Street':street,'City':city,'Phone_Number':Phone_Number,'prod':prod}\n",
    "        "
   ]
  },
  {
   "cell_type": "code",
   "execution_count": 211,
   "metadata": {
    "collapsed": true
   },
   "outputs": [],
   "source": [
    "df=(pd.DataFrame(final_bill))"
   ]
  },
  {
   "cell_type": "code",
   "execution_count": 212,
   "metadata": {
    "collapsed": true
   },
   "outputs": [],
   "source": [
    "df=df.transpose()"
   ]
  },
  {
   "cell_type": "code",
   "execution_count": 213,
   "metadata": {
    "collapsed": true
   },
   "outputs": [],
   "source": [
    "for index,j in df.iterrows():\n",
    "    j['prod']=(pd.DataFrame(j['prod']))"
   ]
  },
  {
   "cell_type": "code",
   "execution_count": 214,
   "metadata": {
    "collapsed": true
   },
   "outputs": [],
   "source": [
    "df=df.transpose()"
   ]
  },
  {
   "cell_type": "code",
   "execution_count": 215,
   "metadata": {},
   "outputs": [
    {
     "data": {
      "text/plain": [
       "Price             50\n",
       "Product       Bottle\n",
       "Quantity           0\n",
       "product_id      1002\n",
       "Name: 0, dtype: object"
      ]
     },
     "execution_count": 215,
     "metadata": {},
     "output_type": "execute_result"
    }
   ],
   "source": [
    "df[501]['prod'][0]"
   ]
  },
  {
   "cell_type": "code",
   "execution_count": 232,
   "metadata": {
    "collapsed": true
   },
   "outputs": [],
   "source": [
    "import json\n",
    "import random\n",
    "import datetime\n",
    "import pandas as pd\n",
    "from pprint import pprint\n",
    "file=open(r'C:\\Users\\Perfect Disk\\Desktop\\Bill Generator\\rajat_bill.html','r')\n",
    "file1=open(r'C:\\Users\\Perfect Disk\\Desktop\\Bill Generator\\bill_gen2.html','w')\n",
    "content=file.read()"
   ]
  },
  {
   "cell_type": "code",
   "execution_count": 233,
   "metadata": {
    "collapsed": true
   },
   "outputs": [],
   "source": [
    "content=content.replace('\\t',\"\")\n",
    "content = content.replace(\"\\n\",\"\")"
   ]
  },
  {
   "cell_type": "code",
   "execution_count": 234,
   "metadata": {},
   "outputs": [],
   "source": [
    "prototype=\"\"\n",
    "to =\"to :\"\n",
    "findto=content.find(to)\n",
    "prototype+=content[0:findto+len(to)]+\" \"+\"Rajat Jain\"\n",
    "\n",
    "date = \"Date :\"\n",
    "finddate=content.find(date)\n",
    "now = datetime.datetime.now()\n",
    "prototype+=content[findto+len(to):finddate+len(date)]+\" \"+str(now.date())\n",
    "\n",
    "month =\"Month :\"\n",
    "findmonth=content.find(month)\n",
    "prototype+=content[finddate+len(date):findmonth+len(month)]+\" \"+str(now.strftime(\"%B\"))\n",
    "\n",
    "invoicenr = \"Invoice nr :\"\n",
    "findinvoicenr = content.find(invoicenr)\n",
    "prototype+=content[findmonth+len(month):findinvoicenr+len(invoicenr)]+\" \"+str(random.randint(1,100))\n",
    "\n",
    "clientnr =\"Client nr :\"\n",
    "findclientnr=content.find(clientnr)\n",
    "prototype+=content[findinvoicenr+len(invoicenr):findclientnr+len(clientnr)]+\" \"+\"501\"\n",
    "\n",
    "tbody=\"tbody\"\n",
    "findtbody=content.find(tbody)\n",
    "prototype+=content[findclientnr+len(clientnr):findtbody+len(tbody)]\n",
    "\n",
    "file1.write(prototype)\n",
    "file1.close()"
   ]
  },
  {
   "cell_type": "code",
   "execution_count": null,
   "metadata": {
    "collapsed": true
   },
   "outputs": [],
   "source": []
  }
 ],
 "metadata": {
  "kernelspec": {
   "display_name": "Python 3",
   "language": "python",
   "name": "python3"
  },
  "language_info": {
   "codemirror_mode": {
    "name": "ipython",
    "version": 3
   },
   "file_extension": ".py",
   "mimetype": "text/x-python",
   "name": "python",
   "nbconvert_exporter": "python",
   "pygments_lexer": "ipython3",
   "version": "3.6.1"
  }
 },
 "nbformat": 4,
 "nbformat_minor": 2
}
